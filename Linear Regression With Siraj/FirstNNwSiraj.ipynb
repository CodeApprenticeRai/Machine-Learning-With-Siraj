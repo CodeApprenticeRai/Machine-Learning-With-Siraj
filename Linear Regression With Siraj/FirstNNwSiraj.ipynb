{
 "cells": [
  {
   "cell_type": "code",
   "execution_count": 7,
   "metadata": {
    "collapsed": false,
    "scrolled": true
   },
   "outputs": [
    {
     "name": "stdout",
     "output_type": "stream",
     "text": [
      "62 lines captured\n"
     ]
    }
   ],
   "source": [
    "#Import Dependencies and Get Data\n",
    "import numpy as np\n",
    "import pandas as pd\n",
    "import sklearn as skl\n",
    "from sklearn import linear_model\n",
    "import matplotlib.pyplot as plt\n",
    "\n",
    "data_n = pd.read_fwf('brain_body.txt')\n",
    "#print(data_)\n",
    "print(str(len(data_n)) + ' lines captured')"
   ]
  },
  {
   "cell_type": "code",
   "execution_count": 8,
   "metadata": {
    "collapsed": false
   },
   "outputs": [],
   "source": [
    "x = data_n[['Brain']]\n",
    "y = data_n[['Body']]\n",
    "\n",
    "def avg(arg):\n",
    "    return(sum(arg)/len(arg))\n"
   ]
  },
  {
   "cell_type": "code",
   "execution_count": 11,
   "metadata": {
    "collapsed": false
   },
   "outputs": [
    {
     "name": "stdout",
     "output_type": "stream",
     "text": [
      "[[   94.27598641]\n",
      " [   91.46831446]\n",
      " [   92.3091663 ]\n",
      " [  540.42520718]\n",
      " [  126.11720924]\n",
      " [  117.73768574]\n",
      " [  105.33753734]\n",
      " [   92.00955243]\n",
      " [   95.05401599]\n",
      " [   91.41515716]\n",
      " [   91.10201234]\n",
      " [   91.89357287]\n",
      " [   91.97089258]\n",
      " [   91.00922869]\n",
      " [   91.06238599]\n",
      " [   94.38713349]\n",
      " [   92.93738894]\n",
      " [   92.64744003]\n",
      " [ 2552.67064467]\n",
      " [   91.02662562]\n",
      " [  271.8358666 ]\n",
      " [  594.54900376]\n",
      " [   91.76309586]\n",
      " [  100.66935988]\n",
      " [   94.19383422]\n",
      " [   91.19769548]\n",
      " [   92.36715609]\n",
      " [  602.28097471]\n",
      " [  291.06914432]\n",
      " [  173.15658746]\n",
      " [   91.72926848]\n",
      " [  150.927171  ]\n",
      " [ 6522.0712267 ]\n",
      " [   94.38713349]\n",
      " [   97.57657151]\n",
      " [  124.83176908]\n",
      " [   94.9187065 ]\n",
      " [   91.12037577]\n",
      " [   91.02662562]\n",
      " [   91.01406117]\n",
      " [   92.35749112]\n",
      " [  332.62848813]\n",
      " [   93.42063713]\n",
      " [  144.64494461]\n",
      " [  187.65403297]\n",
      " [  141.41684675]\n",
      " [  101.20093289]\n",
      " [   91.53596921]\n",
      " [  148.99417827]\n",
      " [   94.48378313]\n",
      " [   95.14873263]\n",
      " [   91.27501519]\n",
      " [   91.07688343]\n",
      " [   91.12230876]\n",
      " [   91.05078803]\n",
      " [  276.5716988 ]\n",
      " [   93.90388531]\n",
      " [  245.64381504]\n",
      " [   91.87424294]\n",
      " [   92.57012032]\n",
      " [   91.10491183]\n",
      " [   95.09750832]]\n"
     ]
    }
   ],
   "source": [
    "reg = skl.linear_model.LinearRegression()\n",
    "reg.fit(x,y)\n",
    "print(reg.predict(x))"
   ]
  },
  {
   "cell_type": "code",
   "execution_count": 10,
   "metadata": {
    "collapsed": false
   },
   "outputs": [
    {
     "name": "stdout",
     "output_type": "stream",
     "text": [
      "LinearRegression(copy_X=True, fit_intercept=True, n_jobs=1, normalize=False)\n"
     ]
    }
   ],
   "source": [
    "\n",
    "#visualize results\n",
    "# plt.scatter(x, y)\n",
    "# plt.plot(x, reg.predict(x))\n",
    "# plt.show()\n"
   ]
  },
  {
   "cell_type": "code",
   "execution_count": null,
   "metadata": {
    "collapsed": true
   },
   "outputs": [],
   "source": []
  },
  {
   "cell_type": "code",
   "execution_count": null,
   "metadata": {
    "collapsed": true
   },
   "outputs": [],
   "source": []
  },
  {
   "cell_type": "code",
   "execution_count": 54,
   "metadata": {
    "collapsed": false
   },
   "outputs": [
    {
     "data": {
      "image/png": "[encoded data removed]",
      "text/plain": [
       "<matplotlib.figure.Figure at 0x1190e7c50>"
      ]
     },
     "metadata": {},
     "output_type": "display_data"
    }
   ],
   "source": [
    "plt.scatter(x,y)\n",
    "plt.plot(x,reg.predict(x))\n",
    "#plt.xlim([0,300])\n",
    "#plt.ylim([0,600])\n",
    "plt.show()\n",
    "#plt.plot(x_,y_)\n",
    "#plt.show()"
   ]
  },
  {
   "cell_type": "code",
   "execution_count": 69,
   "metadata": {
    "collapsed": false
   },
   "outputs": [
    {
     "name": "stdout",
     "output_type": "stream",
     "text": [
      "[[  3.38500000e+00   9.42759864e+01]\n",
      " [  4.80000000e-01   9.14683145e+01]\n",
      " [  1.35000000e+00   9.23091663e+01]\n",
      " [  4.65000000e+02   5.40425207e+02]\n",
      " [  3.63300000e+01   1.26117209e+02]\n",
      " [  2.76600000e+01   1.17737686e+02]\n",
      " [  1.48300000e+01   1.05337537e+02]\n",
      " [  1.04000000e+00   9.20095524e+01]\n",
      " [  4.19000000e+00   9.50540160e+01]\n",
      " [  4.25000000e-01   9.14151572e+01]\n",
      " [  1.01000000e-01   9.11020123e+01]\n",
      " [  9.20000000e-01   9.18935729e+01]\n",
      " [  1.00000000e+00   9.19708926e+01]\n",
      " [  5.00000000e-03   9.10092287e+01]\n",
      " [  6.00000000e-02   9.10623860e+01]\n",
      " [  3.50000000e+00   9.43871335e+01]\n",
      " [  2.00000000e+00   9.29373889e+01]\n",
      " [  1.70000000e+00   9.26474400e+01]\n",
      " [  2.54700000e+03   2.55267064e+03]\n",
      " [  2.30000000e-02   9.10266256e+01]\n",
      " [  1.87100000e+02   2.71835867e+02]\n",
      " [  5.21000000e+02   5.94549004e+02]\n",
      " [  7.85000000e-01   9.17630959e+01]\n",
      " [  1.00000000e+01   1.00669360e+02]\n",
      " [  3.30000000e+00   9.41938342e+01]\n",
      " [  2.00000000e-01   9.11976955e+01]\n",
      " [  1.41000000e+00   9.23671561e+01]\n",
      " [  5.29000000e+02   6.02280975e+02]\n",
      " [  2.07000000e+02   2.91069144e+02]\n",
      " [  8.50000000e+01   1.73156587e+02]\n",
      " [  7.50000000e-01   9.17292685e+01]\n",
      " [  6.20000000e+01   1.50927171e+02]\n",
      " [  6.65400000e+03   6.52207123e+03]\n",
      " [  3.50000000e+00   9.43871335e+01]\n",
      " [  6.80000000e+00   9.75765715e+01]\n",
      " [  3.50000000e+01   1.24831769e+02]\n",
      " [  4.05000000e+00   9.49187065e+01]\n",
      " [  1.20000000e-01   9.11203758e+01]\n",
      " [  2.30000000e-02   9.10266256e+01]\n",
      " [  1.00000000e-02   9.10140612e+01]\n",
      " [  1.40000000e+00   9.23574911e+01]\n",
      " [  2.50000000e+02   3.32628488e+02]\n",
      " [  2.50000000e+00   9.34206371e+01]\n",
      " [  5.55000000e+01   1.44644945e+02]\n",
      " [  1.00000000e+02   1.87654033e+02]\n",
      " [  5.21600000e+01   1.41416847e+02]\n",
      " [  1.05500000e+01   1.01200933e+02]\n",
      " [  5.50000000e-01   9.15359692e+01]\n",
      " [  6.00000000e+01   1.48994178e+02]\n",
      " [  3.60000000e+00   9.44837831e+01]\n",
      " [  4.28800000e+00   9.51487326e+01]\n",
      " [  2.80000000e-01   9.12750152e+01]\n",
      " [  7.50000000e-02   9.10768834e+01]\n",
      " [  1.22000000e-01   9.11223088e+01]\n",
      " [  4.80000000e-02   9.10507880e+01]\n",
      " [  1.92000000e+02   2.76571699e+02]\n",
      " [  3.00000000e+00   9.39038853e+01]\n",
      " [  1.60000000e+02   2.45643815e+02]\n",
      " [  9.00000000e-01   9.18742429e+01]\n",
      " [  1.62000000e+00   9.25701203e+01]\n",
      " [  1.04000000e-01   9.11049118e+01]\n",
      " [  4.23500000e+00   9.50975083e+01]]\n"
     ]
    }
   ],
   "source": [
    "reg_line = np.column_stack((x,reg.predict(x)))\n",
    "print(reg_line)\n"
   ]
  },
  {
   "cell_type": "code",
   "execution_count": null,
   "metadata": {
    "collapsed": true
   },
   "outputs": [],
   "source": [
    "m = reg.coef_\n",
    "b = reg.intercept_\n",
    "\n",
    "def lin_pw_brain(x_value):    \n",
    "    return m * x_value + b\n",
    "\n"
   ]
  }
 ],
 "metadata": {
  "kernelspec": {
   "display_name": "Python 2",
   "language": "python",
   "name": "python2"
  },
  "language_info": {
   "codemirror_mode": {
    "name": "ipython",
    "version": 2
   },
   "file_extension": ".py",
   "mimetype": "text/x-python",
   "name": "python",
   "nbconvert_exporter": "python",
   "pygments_lexer": "ipython2",
   "version": "2.7.13"
  }
 },
 "nbformat": 4,
 "nbformat_minor": 2
}
