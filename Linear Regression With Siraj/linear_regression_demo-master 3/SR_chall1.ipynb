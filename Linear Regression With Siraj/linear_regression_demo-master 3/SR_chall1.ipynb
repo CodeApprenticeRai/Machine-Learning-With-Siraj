{
 "cells": [
  {
   "cell_type": "code",
   "execution_count": 60,
   "metadata": {
    "collapsed": false
   },
   "outputs": [],
   "source": [
    "import pandas as pd\n",
    "from sklearn import linear_model\n",
    "import matplotlib.pyplot as plt\n",
    "import numpy as np\n",
    "    \n",
    "rdata = pd.read_fwf('challenge_dataset.txt')\n",
    "rdata = pd.DataFrame(rdata.FirstSecond.str.split(',',1).tolist(), columns=['First','Second'])"
   ]
  },
  {
   "cell_type": "code",
   "execution_count": 62,
   "metadata": {
    "collapsed": false
   },
   "outputs": [
    {
     "name": "stdout",
     "output_type": "stream",
     "text": [
      "     First   Second\n",
      "0   6.1101   17.592\n",
      "1   5.5277   9.1302\n",
      "2   8.5186   13.662\n",
      "3   7.0032   11.854\n",
      "4   5.8598   6.8233\n",
      "5   8.3829   11.886\n",
      "6   7.4764   4.3483\n",
      "7   8.5781       12\n",
      "8   6.4862   6.5987\n",
      "9   5.0546   3.8166\n",
      "10  5.7107   3.2522\n",
      "11  14.164   15.505\n",
      "12   5.734   3.1551\n",
      "13  8.4084   7.2258\n",
      "14  5.6407  0.71618\n",
      "15  5.3794   3.5129\n",
      "16  6.3654   5.3048\n",
      "17  5.1301  0.56077\n",
      "18  6.4296   3.6518\n",
      "19  7.0708   5.3893\n",
      "20  6.1891   3.1386\n",
      "21   20.27   21.767\n",
      "22  5.4901    4.263\n",
      "23  6.3261   5.1875\n",
      "24  5.5649   3.0825\n",
      "25  18.945   22.638\n",
      "26  12.828   13.501\n",
      "27  10.957   7.0467\n",
      "28  13.176   14.692\n",
      "29  22.203   24.147\n",
      "..     ...      ...\n",
      "67  10.236   7.7754\n",
      "68  5.4994   1.0173\n",
      "69  20.341   20.992\n",
      "70  10.136   6.6799\n",
      "71  7.3345   4.0259\n",
      "72  6.0062   1.2784\n",
      "73  7.2259   3.3411\n",
      "74  5.0269  -2.6807\n",
      "75  6.5479  0.29678\n",
      "76  7.5386   3.8845\n",
      "77  5.0365   5.7014\n",
      "78  10.274   6.7526\n",
      "79  5.1077   2.0576\n",
      "80  5.7292  0.47953\n",
      "81  5.1884  0.20421\n",
      "82  6.3557  0.67861\n",
      "83  9.7687   7.5435\n",
      "84  6.5159   5.3436\n",
      "85  8.5172   4.2415\n",
      "86  9.1802   6.7981\n",
      "87   6.002  0.92695\n",
      "88  5.5204    0.152\n",
      "89  5.0594   2.8214\n",
      "90  5.7077   1.8451\n",
      "91  7.6366   4.2959\n",
      "92  5.8707   7.2029\n",
      "93  5.3054   1.9869\n",
      "94  8.2934  0.14454\n",
      "95  13.394   9.0551\n",
      "96  5.4369  0.61705\n",
      "\n",
      "[97 rows x 2 columns]\n"
     ]
    }
   ],
   "source": [
    "print(rdata)\n"
   ]
  },
  {
   "cell_type": "code",
   "execution_count": 88,
   "metadata": {
    "collapsed": false
   },
   "outputs": [],
   "source": [
    "x = rdata[['First']]\n",
    "y = rdata[['Second']]"
   ]
  },
  {
   "cell_type": "code",
   "execution_count": 89,
   "metadata": {
    "collapsed": false
   },
   "outputs": [
    {
     "data": {
      "text/plain": [
       "LinearRegression(copy_X=True, fit_intercept=True, n_jobs=1, normalize=False)"
      ]
     },
     "execution_count": 89,
     "metadata": {},
     "output_type": "execute_result"
    }
   ],
   "source": [
    "regress = linear_model.LinearRegression()\n",
    "regress.fit(x , y)\n"
   ]
  },
  {
   "cell_type": "code",
   "execution_count": 90,
   "metadata": {
    "collapsed": false
   },
   "outputs": [
    {
     "data": {
      "text/plain": [
       "[<matplotlib.lines.Line2D at 0x11b971ad0>]"
      ]
     },
     "execution_count": 90,
     "metadata": {},
     "output_type": "execute_result"
    }
   ],
   "source": [
    "plt.scatter(x,y)\n",
    "plt.plot(x,regress.predict(x))"
   ]
  },
  {
   "cell_type": "code",
   "execution_count": 91,
   "metadata": {
    "collapsed": false
   },
   "outputs": [
    {
     "data": {
      "image/png": "[encoded data removed]",
      "text/plain": [
       "<matplotlib.figure.Figure at 0x11b7368d0>"
      ]
     },
     "metadata": {},
     "output_type": "display_data"
    }
   ],
   "source": [
    "plt.show()"
   ]
  },
  {
   "cell_type": "code",
   "execution_count": null,
   "metadata": {
    "collapsed": true
   },
   "outputs": [],
   "source": []
  }
 ],
 "metadata": {
  "kernelspec": {
   "display_name": "Python 2",
   "language": "python",
   "name": "python2"
  },
  "language_info": {
   "codemirror_mode": {
    "name": "ipython",
    "version": 2
   },
   "file_extension": ".py",
   "mimetype": "text/x-python",
   "name": "python",
   "nbconvert_exporter": "python",
   "pygments_lexer": "ipython2",
   "version": "2.7.13"
  }
 },
 "nbformat": 4,
 "nbformat_minor": 2
}
