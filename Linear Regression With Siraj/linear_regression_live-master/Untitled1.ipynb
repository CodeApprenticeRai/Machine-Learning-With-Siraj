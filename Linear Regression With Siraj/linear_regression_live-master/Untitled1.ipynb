{
 "cells": [
  {
   "cell_type": "code",
   "execution_count": 15,
   "metadata": {
    "collapsed": false
   },
   "outputs": [],
   "source": [
    "import pandas as pd\n",
    "import matplotlib.pyplot as plt\n",
    "#get data\n",
    "data = pd.read_csv('data.csv',header=None)\n",
    "#print(data)"
   ]
  },
  {
   "cell_type": "code",
   "execution_count": 16,
   "metadata": {
    "collapsed": false
   },
   "outputs": [],
   "source": [
    "for i in range(0,len(data)):\n",
    "    x = data.iat[i,0]\n",
    "    y = data.iat[i,1]"
   ]
  },
  {
   "cell_type": "code",
   "execution_count": 17,
   "metadata": {
    "collapsed": false
   },
   "outputs": [],
   "source": [
    "final_b = 0.0889365199374\n",
    "final_m = 1.47774408519"
   ]
  },
  {
   "cell_type": "code",
   "execution_count": 18,
   "metadata": {
    "collapsed": false
   },
   "outputs": [
    {
     "data": {
      "image/png": "[encoded data removed]",
      "text/plain": [
       "<matplotlib.figure.Figure at 0x11abf13d0>"
      ]
     },
     "metadata": {},
     "output_type": "display_data"
    }
   ],
   "source": [
    "x_ = data.iloc[:,0]\n",
    "y_ = data.iloc[:,1]\n",
    "plt.scatter(x_,y_)\n",
    "\n",
    "xx = [int(i) for i in range(0,99)]\n",
    "yy = [i * final_m + final_b for i in xx]\n",
    "plt.plot(xx,yy)\n",
    "plt.show()"
   ]
  },
  {
   "cell_type": "code",
   "execution_count": 21,
   "metadata": {
    "collapsed": false
   },
   "outputs": [
    {
     "name": "stdout",
     "output_type": "stream",
     "text": [
      "(112.61481011613469, 112.6148363810626)\n"
     ]
    }
   ],
   "source": [
    "def err(b,m,data):\n",
    "    total_err = 0\n",
    "    for i in range(0,len(data)):\n",
    "        x = data.iat[i,0]\n",
    "        y = data.iat[i,1]\n",
    "        total_err += (y - (m * x + b))**2\n",
    "    return total_err/float(len(data))\n",
    "\n",
    "print(err(final_b,final_m, data), err(0.0889, 1.4777, data))"
   ]
  },
  {
   "cell_type": "code",
   "execution_count": null,
   "metadata": {
    "collapsed": true
   },
   "outputs": [],
   "source": [
    "y = 1.4777x + 0.0889\n",
    "\u0000"
   ]
  }
 ],
 "metadata": {
  "kernelspec": {
   "display_name": "Python 2",
   "language": "python",
   "name": "python2"
  },
  "language_info": {
   "codemirror_mode": {
    "name": "ipython",
    "version": 2
   },
   "file_extension": ".py",
   "mimetype": "text/x-python",
   "name": "python",
   "nbconvert_exporter": "python",
   "pygments_lexer": "ipython2",
   "version": "2.7.13"
  }
 },
 "nbformat": 4,
 "nbformat_minor": 2
}
